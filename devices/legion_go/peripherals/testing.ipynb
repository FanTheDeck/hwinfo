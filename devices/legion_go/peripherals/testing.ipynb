{
 "cells": [
  {
   "cell_type": "code",
   "execution_count": 14,
   "metadata": {},
   "outputs": [
    {
     "name": "stdout",
     "output_type": "stream",
     "text": [
      "{'path': b'/dev/hidraw6', 'vendor_id': 6127, 'product_id': 24962, 'serial_number': '32869681', 'release_number': 256, 'manufacturer_string': ' ', 'product_string': 'Legion Controller for Windows ', 'usage_page': 65440, 'usage': 1, 'interface_number': 2}\n"
     ]
    }
   ],
   "source": [
    "# pip install hid\n",
    "import hid\n",
    "\n",
    "vendor_id = 0x17EF\n",
    "product_id_match = lambda x: x & 0xFFF0 == 0x6180\n",
    "usage_page = 0xFFA0\n",
    "\n",
    "config = None\n",
    "for dev in hid.enumerate(vendor_id):\n",
    "    if product_id_match(dev[\"product_id\"]) and dev[\"usage_page\"] == usage_page:\n",
    "        config = dev\n",
    "        break\n",
    "\n",
    "if not config:\n",
    "    print(\"Legion go configuration device not found.\")\n",
    "else:\n",
    "    print(config)"
   ]
  },
  {
   "cell_type": "code",
   "execution_count": 12,
   "metadata": {},
   "outputs": [
    {
     "name": "stdout",
     "output_type": "stream",
     "text": [
      "Command sent successfully.\n"
     ]
    }
   ],
   "source": [
    "\n",
    "# Command to disable the touchpad\n",
    "# Format: 0506 6b 0204 <enable> 01\n",
    "command = [\n",
    "    0x05,\n",
    "    0x06,  # Report ID and Length\n",
    "    0x6B,  # Command (Nibble 6 + b)\n",
    "    0x02,  # Command sub-parameter\n",
    "    0x04,  # Right Controller\n",
    "    0x01,  # Disable flag (0x00 for disable, 0x01 for enable)\n",
    "    0x01,  # All commands end with 0x01\n",
    "]\n",
    "\n",
    "byte_command = bytes(command)\n",
    "\n",
    "# Pad the byte_command with 0xCD to meet the length of 64 bytes\n",
    "buffered_command = byte_command + bytes([0xCD] * (64 - len(byte_command)))\n",
    "assert len(buffered_command) == 64 and config\n",
    "\n",
    "try:\n",
    "    with hid.Device(path=config['path']) as device:\n",
    "        # Send the buffered command as a byte array\n",
    "        device.write(buffered_command)\n",
    "        print(\"Command sent successfully.\")\n",
    "except IOError as e:\n",
    "    print(f\"Error opening HID device: {e}\")"
   ]
  },
  {
   "cell_type": "code",
   "execution_count": null,
   "metadata": {},
   "outputs": [],
   "source": []
  }
 ],
 "metadata": {
  "kernelspec": {
   "display_name": "venv",
   "language": "python",
   "name": "python3"
  },
  "language_info": {
   "codemirror_mode": {
    "name": "ipython",
    "version": 3
   },
   "file_extension": ".py",
   "mimetype": "text/x-python",
   "name": "python",
   "nbconvert_exporter": "python",
   "pygments_lexer": "ipython3",
   "version": "3.11.5"
  }
 },
 "nbformat": 4,
 "nbformat_minor": 2
}
